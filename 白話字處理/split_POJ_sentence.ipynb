{
 "cells": [
  {
   "cell_type": "code",
   "execution_count": 29,
   "id": "b9a1ba38-cc2b-4a75-983b-511b035fffc8",
   "metadata": {},
   "outputs": [
    {
     "name": "stdout",
     "output_type": "stream",
     "text": [
      "['?!「(）」！？。；、，(bîn', '-tsú', '-tóng)', ',', '「tsóng', '-thóng.', 'hāu「', '-suán', '-jîn', 'Obama', 'sì', '-ji̍t', 'í', 'ap', '-tó', '-sìng', 'sìng', '-lī，tòng', '-suán', 'bí', '-kok', 'li̍k', '-sú', 'siōng', 'thâu', '-tsi̍t', '-uī', 'oo', '-lâng', 'tsóng', '-thóng，i', 'tī', 'Chicago', 'ê', 'sìng', '-suán', 'ián', '-suat', 'tiong，tuì', '-tio̍h', 'jī', '-tsa̍p', 'juā', 'bān', 'tsi', '-tshî', '-tsiá', 'suan', '-kò，kái', '-piàn', 'í', '-king', 'lâi', '-kàu', 'bí', '-kok。']\n",
      "[15, 46, 9, 45, 48, 22, 39, 27, 14, 30, 36, 40, 29, 49, 12, 7, 31, 41, 27, 25, 11, 10, 6, 18, 24, 20, 21, 37, 2, 33, 26, 28, 3, 1, 31, 27, 17, 13, 38, 0, 43, 8, 42, 44, 19, 34, 32, 23, 5, 35, 29, 47, 4, 16, 25, 50]\n"
     ]
    }
   ],
   "source": [
    "import regex\n",
    "import re\n",
    "sentence = \"?!「（）」！？。；、，(bîn-tsú-tóng) , 「tsóng-thóng. hāu「-suán-jîn Obama sì-ji̍t í ap-tó-sìng sìng-lī，tòng-suán bí-kok li̍k-sú siōng thâu-tsi̍t-uī oo-lâng tsóng-thóng，i tī Chicago ê sìng-suán ián-suat tiong，tuì-tio̍h jī-tsa̍p juā bān tsi-tshî-tsiá suan-kò，kái-piàn í-king lâi-kàu bí-kok。\"\n",
    "sentence = re.sub(r\"（\", \"(\", sentence)\n",
    "end_suffixes = [\"，\", \"、\", \"；\",\"。\",\"？\",\"！\",\"「\",\"」\",\"（\",\"）\",\")\",\"!\",\"?\"]\n",
    "pattern = r'\\?|\\!|「|（|）|」|！|？|。|；|、|，| |(?=-)|(?=\\p{Punct})'\n",
    "pattern = r' |(?=-)|(?=\\p{Punct})'\n",
    "parts = regex.split(pattern, sentence)\n",
    "word2idx = {word:idx for idx, word in enumerate(set(parts))}\n",
    "print(parts)\n",
    "print([word2idx[word] for word in parts])"
   ]
  },
  {
   "cell_type": "code",
   "execution_count": 3,
   "id": "d340856c-42b2-4c60-a493-cff85fa36443",
   "metadata": {},
   "outputs": [
    {
     "name": "stdout",
     "output_type": "stream",
     "text": [
      "['(', 'bîn', '-', 'tsú', '-', 'tóng', ')', ' ', ',', ' ', '「', 'tsóng', '-', 'thóng', '.', ' ', 'hāu', '「', '-', 'suán', '-', 'jîn', '.', ' ', 'Obama', ' ', 'sì', '-', 'ji̍t', '。', '!']\n",
      "[10, 15, 14, 17, 14, 5, 16, 19, 0, 19, 13, 3, 14, 2, 4, 19, 6, 13, 14, 7, 14, 1, 4, 19, 18, 19, 8, 14, 9, 12, 11]\n"
     ]
    }
   ],
   "source": [
    "import regex\n",
    "sentence = \"(bîn-tsú-tóng) , 「tsóng-thóng. hāu「-suán-jîn. Obama sì-ji̍t。!\"\n",
    "def split_POJ_sentence(sentence):\n",
    "    pattern = r'(?=-)|(?<=\\p{Punct})|(?=\\p{Punct})|(?<=\\s)|(?=\\s)'\n",
    "    return [word for word in regex.split(pattern, sentence) if word]\n",
    "parts = split_POJ_sentence(sentence)\n",
    "print(parts)\n",
    "word2idx = {word:idx for idx, word in enumerate(set(parts))}\n",
    "print([word2idx[word] for word in parts])"
   ]
  },
  {
   "cell_type": "code",
   "execution_count": null,
   "id": "061c4301-0c5d-45c4-a011-c2484be4f561",
   "metadata": {},
   "outputs": [],
   "source": []
  }
 ],
 "metadata": {
  "kernelspec": {
   "display_name": "Python 3 (ipykernel)",
   "language": "python",
   "name": "python3"
  },
  "language_info": {
   "codemirror_mode": {
    "name": "ipython",
    "version": 3
   },
   "file_extension": ".py",
   "mimetype": "text/x-python",
   "name": "python",
   "nbconvert_exporter": "python",
   "pygments_lexer": "ipython3",
   "version": "3.8.8"
  }
 },
 "nbformat": 4,
 "nbformat_minor": 5
}
