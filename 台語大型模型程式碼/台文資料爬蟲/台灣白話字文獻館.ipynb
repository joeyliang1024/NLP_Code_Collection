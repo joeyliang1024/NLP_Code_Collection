{
 "cells": [
  {
   "cell_type": "code",
   "execution_count": 2,
   "id": "ec3152e3-e08c-4d83-9987-2d149ae0e5f4",
   "metadata": {},
   "outputs": [],
   "source": [
    "from selenium import webdriver\n",
    "from selenium.webdriver.chrome.options import Options\n",
    "from selenium.common.exceptions import WebDriverException as wde\n",
    "from tqdm.auto import tqdm\n",
    "import pandas as pd"
   ]
  },
  {
   "cell_type": "code",
   "execution_count": 3,
   "id": "66b6e117-d48d-475d-b4ec-f68a9f431f65",
   "metadata": {},
   "outputs": [],
   "source": [
    "# use selenium to get the content of each chapter\n",
    "chrome_options = Options()\n",
    "# chrome_options.add_argument(\"--headless\")\n",
    "chrome_options.add_argument(\"--incognito\") \n",
    "chromedriver = \"/usr/local/bin/chromedriver\"\n",
    "driver = webdriver.Chrome(chromedriver, options=chrome_options)\n",
    "driver.get(\"http://pojbh.lib.ntnu.edu.tw/script/artical-dtap.htm\") # 主網頁"
   ]
  },
  {
   "cell_type": "code",
   "execution_count": 4,
   "id": "4073b206-4d6d-49a2-bb60-a2700d2e998e",
   "metadata": {},
   "outputs": [],
   "source": [
    "#main function\n",
    "to_be_craw_link = []\n",
    "stop_url = 'http://pojbh.lib.ntnu.edu.tw/script/artical-dtap140.htm'\n",
    "while stop_url != driver.current_url:\n",
    "    table = driver.find_element_by_xpath(\"//table[@width='860'][@border='0'][@cellspacing='0'][@style='text-align:left']\")\n",
    "    column = table.find_elements_by_xpath(\"//td[@style='width:120px']\")\n",
    "    to_be_craw_link += [elem.find_element_by_tag_name('a').get_attribute('href') for elem in column]\n",
    "    # click button 搜尋\n",
    "    button = driver.find_element_by_xpath(\"//img[@src='../images/btn_next.gif']\")\n",
    "    button.click() #next_page\n",
    "#driver.close()"
   ]
  },
  {
   "cell_type": "code",
   "execution_count": 5,
   "id": "eea9e6b2-8479-4ac9-82c2-b69d5acd1fe3",
   "metadata": {},
   "outputs": [],
   "source": [
    "#with open('台灣白話字文獻館連結.txt', 'a') as f:\n",
    "#    for link in to_be_craw_link:\n",
    "#        f.write(link)\n",
    "#        f.write('\\n')"
   ]
  },
  {
   "cell_type": "code",
   "execution_count": null,
   "id": "b4cb7173-b46a-4617-9580-38ac9b810da2",
   "metadata": {},
   "outputs": [],
   "source": [
    "#driver = webdriver.Chrome(chromedriver, options=chrome_options)\n",
    "white_hua = []\n",
    "han_lao = []\n",
    "url_link = []\n",
    "#to_be_craw_links = open(\"台灣白話字文獻館連結.txt\", \"r\").read().split('\\n')\n",
    "\n",
    "for url in tqdm(to_be_craw_link):\n",
    "    driver.get(url) \n",
    "    button = driver.find_element_by_id('showContentBtn3')\n",
    "    button.click()\n",
    "    try:\n",
    "        han   = driver.find_element_by_id('artical_content').find_element_by_xpath(\"//div[@style='width:48%; border:1px solid #ccc; float:left; padding:3px;']\").text\n",
    "        white = driver.find_element_by_id('artical_content').find_element_by_xpath(\"//div[@style='width:48%;border:1px solid #ccc; float:left;margin-left:5px; padding:3px;']\").text\n",
    "        white_hua.append(white)\n",
    "        han_lao.append(han)\n",
    "        url_link.append(url)\n",
    "    except:\n",
    "        continue\n",
    "        \n",
    "df = pd.DataFrame({\n",
    "    '漢羅': han_lao,\n",
    "    '台羅': white_hua,\n",
    "    '連結': url_link\n",
    "})\n",
    "df.to_csv('台灣白話字文獻館.csv', index = False)\n",
    "driver.close()"
   ]
  },
  {
   "cell_type": "code",
   "execution_count": null,
   "id": "98252e97-5e9d-47b1-9a92-3e932a6317ad",
   "metadata": {},
   "outputs": [],
   "source": []
  }
 ],
 "metadata": {
  "kernelspec": {
   "display_name": "Python 3 (ipykernel)",
   "language": "python",
   "name": "python3"
  },
  "language_info": {
   "codemirror_mode": {
    "name": "ipython",
    "version": 3
   },
   "file_extension": ".py",
   "mimetype": "text/x-python",
   "name": "python",
   "nbconvert_exporter": "python",
   "pygments_lexer": "ipython3",
   "version": "3.8.8"
  }
 },
 "nbformat": 4,
 "nbformat_minor": 5
}
