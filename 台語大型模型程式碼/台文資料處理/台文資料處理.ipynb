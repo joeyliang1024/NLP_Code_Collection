{
 "cells": [
  {
   "cell_type": "code",
   "execution_count": 2,
   "id": "9d4c594b-7d57-4e51-9d85-ae2ff61138e7",
   "metadata": {},
   "outputs": [
    {
     "name": "stdout",
     "output_type": "stream",
     "text": [
      "./Hokkien_data/iCorpus_train.txt\n"
     ]
    },
    {
     "name": "stderr",
     "output_type": "stream",
     "text": [
      "100%|██████████| 72935/72935 [00:00<00:00, 194102.63it/s]\n"
     ]
    },
    {
     "name": "stdout",
     "output_type": "stream",
     "text": [
      "./Hokkien_data/taigilongthok_all.txt\n"
     ]
    },
    {
     "name": "stderr",
     "output_type": "stream",
     "text": [
      "100%|██████████| 3732/3732 [00:00<00:00, 327745.87it/s]\n"
     ]
    },
    {
     "name": "stdout",
     "output_type": "stream",
     "text": [
      "./Hokkien_data/讀台語學科學.txt\n"
     ]
    },
    {
     "name": "stderr",
     "output_type": "stream",
     "text": [
      "100%|██████████| 581/581 [00:00<00:00, 230656.95it/s]\n"
     ]
    },
    {
     "name": "stdout",
     "output_type": "stream",
     "text": [
      "./Hokkien_data/tw_lyrics.txt\n"
     ]
    },
    {
     "name": "stderr",
     "output_type": "stream",
     "text": [
      "100%|██████████| 373980/373980 [00:00<00:00, 375690.91it/s]\n"
     ]
    },
    {
     "name": "stdout",
     "output_type": "stream",
     "text": [
      "./Hokkien_data/臺語國校仔課本.txt\n"
     ]
    },
    {
     "name": "stderr",
     "output_type": "stream",
     "text": [
      "100%|██████████| 3739/3739 [00:00<00:00, 123138.13it/s]\n"
     ]
    },
    {
     "name": "stdout",
     "output_type": "stream",
     "text": [
      "./Hokkien_data/台灣新眼界_gpt_加標點分段落.txt\n"
     ]
    },
    {
     "name": "stderr",
     "output_type": "stream",
     "text": [
      "100%|██████████| 15344/15344 [00:00<00:00, 262546.10it/s]\n"
     ]
    },
    {
     "name": "stdout",
     "output_type": "stream",
     "text": [
      "./Hokkien_data/寶島鼓仔燈_gpt_加標點分段落.txt\n"
     ]
    },
    {
     "name": "stderr",
     "output_type": "stream",
     "text": [
      "100%|██████████| 13142/13142 [00:00<00:00, 267332.44it/s]\n"
     ]
    },
    {
     "name": "stdout",
     "output_type": "stream",
     "text": [
      "./Hokkien_data/台灣記事簿_gpt_加標點分段落.txt\n"
     ]
    },
    {
     "name": "stderr",
     "output_type": "stream",
     "text": [
      "100%|██████████| 13666/13666 [00:00<00:00, 205402.29it/s]\n"
     ]
    },
    {
     "name": "stdout",
     "output_type": "stream",
     "text": [
      "85579\n"
     ]
    },
    {
     "data": {
      "image/png": "[encoded data removed]",
      "text/plain": [
       "<Figure size 432x288 with 1 Axes>"
      ]
     },
     "metadata": {
      "needs_background": "light"
     },
     "output_type": "display_data"
    }
   ],
   "source": [
    "import os\n",
    "from tqdm import tqdm\n",
    "import random\n",
    "import json\n",
    "import matplotlib.pyplot as plt\n",
    "directory = \"./Hokkien_data\"\n",
    "corpus = []\n",
    "corpus_lines_count = []\n",
    "for file in os.listdir(directory):\n",
    "    if file.endswith(\".txt\"):\n",
    "        print(os.path.join(directory, file))\n",
    "        with open(os.path.join(directory, file), 'r', encoding='UTF-8') as file:\n",
    "            complete_sentence = []\n",
    "            for line in tqdm(file.readlines()):\n",
    "                # normal sentence\n",
    "                if line!=\"\\n\":\n",
    "                    complete_sentence.append(line[:-1])\n",
    "                    if line[:-1].endswith(\"。\") or line[:-1].endswith(\"？\") or line[:-1].endswith(\"！\") or line[:-1].endswith(\"?\") or line[:-1].endswith(\"!\"):\n",
    "                        corpus_lines_count.append(len(complete_sentence))\n",
    "                        if len(complete_sentence)>1:\n",
    "                            rand = random.randint(1,len(complete_sentence)-1)\n",
    "                            data_dict ={\"instruction\": \"This is an example of a Taiwanese sentence: \\\"駐美特派員曹郁芬華府報導。\\\". Your job is to finished the given sentence, it should be end with \\\"。\\\".  \\\"自細漢阮就罕得去電頭鬃店予人鉸頭鬃，\\\":  \\\"見擺若是學校欲檢查頭毛，阿母就會工課放咧，叫阮三姊弟仔坐踮椅條，逐个人提一張中央挖空的報紙橐咧，聽候阿母「開工」。\\\"\",\n",
    "                                        \"input\": \"\".join(complete_sentence[:rand]),\n",
    "                                        \"output\": \"\".join(complete_sentence[rand:])}\n",
    "                            corpus.append(data_dict)\n",
    "                        complete_sentence = []\n",
    "print(len(corpus))\n",
    "plt.hist(corpus_lines_count,bins = 50,label=[\"10\",\"20\",\"30\",\"40\",\"50\",\"60\",\"70\",\"80\",\"90\"],range=(0,90))\n",
    "plt.title(\"paragraph length histogram\")\n",
    "plt.xlabel(\"paragpraph length\")\n",
    "plt.ylabel(\"count\")\n",
    "plt.savefig(\"paragraph_length_histogram.png\")\n",
    "plt.show()\n",
    "with open('Hokkien_corpus_new_EN_complete_instruction.json', 'w', encoding='utf-8') as f:\n",
    "    json.dump(corpus, f, ensure_ascii=False)"
   ]
  },
  {
   "cell_type": "code",
   "execution_count": 6,
   "id": "dc7bc504-e46f-43fc-b3bc-e43bb9330f50",
   "metadata": {},
   "outputs": [
    {
     "data": {
      "text/plain": [
       "{'instruction': 'This is an example of a Taiwanese sentence: \"駐美特派員曹郁芬華府報導。\". Your job is to finished the following sentence, it should be end with \"。\". \"警方幾擺向抗議群眾夯牌仔，\":  \"警方幾擺向抗議群眾夯牌仔，毋過學生並無按算退讓。\"',\n",
       " 'input': 'DalaiLama是佇印度疏幅的山城Dharamsala就是Tibet流亡政府所在地，',\n",
       " 'output': '向媒體記者表示伊的想法。'}"
      ]
     },
     "execution_count": 6,
     "metadata": {},
     "output_type": "execute_result"
    }
   ],
   "source": [
    "corpus[123]"
   ]
  },
  {
   "cell_type": "code",
   "execution_count": 12,
   "id": "8a214485-b3d2-4aed-b797-6811f092a392",
   "metadata": {},
   "outputs": [
    {
     "name": "stdout",
     "output_type": "stream",
     "text": [
      "\t Length \tCount \n",
      "   --------------------------------\n",
      "\t  0                 0\n",
      "\t  1             57297\n",
      "\t  2             41518\n",
      "\t  3             13884\n",
      "\t  4             14712\n",
      "\t  5              4707\n",
      "\t  6              2439\n",
      "\t  7              1317\n",
      "\t  8              1004\n",
      "\t  9               700\n",
      "\t 10               610\n",
      "\t 11               525\n",
      "\t 12               436\n",
      "\t 13               337\n",
      "\t 14               309\n",
      "\t 15               269\n",
      "\t 16               231\n",
      "\t 17               204\n",
      "\t 18               193\n",
      "\t 19               157\n",
      "\t 20               142\n",
      "\t 21               134\n",
      "\t 22               123\n",
      "\t 23               105\n",
      "\t 24                96\n",
      "\t 25                91\n",
      "\t 26                87\n",
      "\t 27                64\n",
      "\t 28                90\n",
      "\t 29                59\n",
      "\t 30                70\n",
      "\t 31                49\n",
      "\t 32                59\n",
      "\t 33                50\n",
      "\t 34                38\n",
      "\t 35                31\n",
      "\t 36                31\n",
      "\t 37                27\n",
      "\t 38                39\n",
      "\t 39                29\n",
      "\t 40                29\n",
      "\t 41                19\n",
      "\t 42                38\n",
      "\t 43                38\n",
      "\t 44                29\n",
      "\t 45                24\n",
      "\t 46                27\n",
      "\t 47                15\n",
      "\t 48                23\n",
      "\t 49                16\n",
      "\t 50                14\n",
      "\t 51                 9\n",
      "\t 52                15\n",
      "\t 53                10\n",
      "\t 54                18\n",
      "\t 55                 8\n",
      "\t 56                14\n",
      "\t 57                16\n",
      "\t 58                16\n",
      "\t 59                13\n",
      "\t 60                10\n",
      "\t 61                 9\n",
      "\t 62                 6\n",
      "\t 63                 6\n",
      "\t 64                 6\n",
      "\t 65                 6\n",
      "\t 66                12\n",
      "\t 67                 4\n",
      "\t 68                 6\n",
      "\t 69                 7\n",
      "\t 70                11\n",
      "\t 71                 5\n",
      "\t 72                 7\n",
      "\t 73                 4\n",
      "\t 74                 4\n",
      "\t 75                 3\n",
      "\t 76                 5\n",
      "\t 77                 6\n",
      "\t 78                 1\n",
      "\t 79                 6\n",
      "\t 80                 5\n",
      "\t 81                 3\n",
      "\t 82                 2\n",
      "\t 83                 3\n",
      "\t 84                 5\n",
      "\t 85                 3\n",
      "\t 86                 3\n",
      "\t 87                 2\n",
      "\t 88                 1\n",
      "\t 89                 6\n",
      "\t 90                 2\n",
      "\t 91                 4\n",
      "\t 92                 4\n",
      "\t 93                 1\n",
      "\t 94                 2\n",
      "\t 95                 0\n",
      "\t 96                 1\n",
      "\t 97                 3\n",
      "\t 98                 2\n",
      "\t 99                 2\n",
      "\t 100                 1\n",
      "\t 101                 0\n",
      "\t 102                 4\n",
      "\t 103                 2\n",
      "\t 104                 3\n",
      "\t 105                 1\n",
      "\t 106                 1\n",
      "\t 107                 2\n",
      "\t 108                 2\n",
      "\t 109                 0\n",
      "\t 110                 1\n",
      "\t 111                 1\n",
      "\t 112                 0\n",
      "\t 113                 0\n",
      "\t 114                 0\n",
      "\t 115                 2\n",
      "\t 116                 2\n",
      "\t 117                 1\n",
      "\t 118                 0\n",
      "\t 119                 0\n",
      "\t 120                 0\n",
      "\t 121                 0\n",
      "\t 122                 0\n",
      "\t 123                 0\n",
      "\t 124                 1\n",
      "\t 125                 1\n",
      "\t 126                 0\n",
      "\t 127                 0\n",
      "\t 128                 1\n",
      "\t 129                 0\n"
     ]
    }
   ],
   "source": [
    "num_line = set(corpus_lines_count)\n",
    "d_counts = {}\n",
    "for num in range(len(num_line)):\n",
    "    d_counts[num] = corpus_lines_count.count(num)    \n",
    "print(\"\\t Length \\tCount \\n  \", \"-\"*32)\n",
    "for i in range(len(num_line)):\n",
    "    print('\\t {0:2d}   {1:15d}'.format(list(d_counts.keys())[i], list(d_counts.values())[i]))    "
   ]
  },
  {
   "cell_type": "code",
   "execution_count": null,
   "id": "96a0f61d-8ba0-4312-b2a3-a445935121be",
   "metadata": {},
   "outputs": [],
   "source": []
  }
 ],
 "metadata": {
  "kernelspec": {
   "display_name": "Python 3 (ipykernel)",
   "language": "python",
   "name": "python3"
  },
  "language_info": {
   "codemirror_mode": {
    "name": "ipython",
    "version": 3
   },
   "file_extension": ".py",
   "mimetype": "text/x-python",
   "name": "python",
   "nbconvert_exporter": "python",
   "pygments_lexer": "ipython3",
   "version": "3.8.8"
  }
 },
 "nbformat": 4,
 "nbformat_minor": 5
}
