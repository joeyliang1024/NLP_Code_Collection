{
 "cells": [
  {
   "cell_type": "code",
   "execution_count": 18,
   "id": "806503cc-8aef-49b9-a52d-2ce5739b12c9",
   "metadata": {},
   "outputs": [],
   "source": [
    "import pandas as pd\n",
    "from tqdm.notebook import tqdm\n",
    "import re\n",
    "tqdm.pandas()"
   ]
  },
  {
   "cell_type": "code",
   "execution_count": 19,
   "id": "b24f7b57-b3e5-4ad9-a889-61ce5557e3b1",
   "metadata": {},
   "outputs": [],
   "source": [
    "df = pd.read_csv(\"台灣白話字文獻館加上台文.csv\").dropna()\n",
    "df = df[df['台文']!='decode error']\n",
    "df1 = pd.read_csv(\"台灣白話字文獻館decode_error.csv\")\n",
    "df = pd.concat([df,df1])\n",
    "#df.to_csv(\"台灣白話字文獻館decode_error.csv\", index =False)"
   ]
  },
  {
   "cell_type": "code",
   "execution_count": 20,
   "id": "d66bcb2a-4c1f-4d4d-b8c1-ace0d5658089",
   "metadata": {},
   "outputs": [
    {
     "data": {
      "text/plain": [
       "2721"
      ]
     },
     "execution_count": 20,
     "metadata": {},
     "output_type": "execute_result"
    }
   ],
   "source": [
    "df.shape[0]"
   ]
  },
  {
   "cell_type": "code",
   "execution_count": 21,
   "id": "4091d269-8458-426f-bdde-0d0e7017aec7",
   "metadata": {},
   "outputs": [
    {
     "data": {
      "text/html": [
       "<div>\n",
       "<style scoped>\n",
       "    .dataframe tbody tr th:only-of-type {\n",
       "        vertical-align: middle;\n",
       "    }\n",
       "\n",
       "    .dataframe tbody tr th {\n",
       "        vertical-align: top;\n",
       "    }\n",
       "\n",
       "    .dataframe thead th {\n",
       "        text-align: right;\n",
       "    }\n",
       "</style>\n",
       "<table border=\"1\" class=\"dataframe\">\n",
       "  <thead>\n",
       "    <tr style=\"text-align: right;\">\n",
       "      <th></th>\n",
       "      <th>漢羅</th>\n",
       "      <th>台羅</th>\n",
       "      <th>連結</th>\n",
       "      <th>台文</th>\n",
       "    </tr>\n",
       "  </thead>\n",
       "  <tbody>\n",
       "    <tr>\n",
       "      <th>0</th>\n",
       "      <td>論白話字ê利益\\n\\n是葉漢章先生做--ê\\n1885.06 Tē 1 張 p.2-3\\n論...</td>\n",
       "      <td>Lūn Pe̍h-oē-jī ê Lī-ek\\nSī Ia̍p Hàn-chiong Sia...</td>\n",
       "      <td>http://pojbh.lib.ntnu.edu.tw/script/artical-12...</td>\n",
       "      <td>論白話字的利益\\n\\n是葉漢章先生做--的\\n1885。06地1張p。2 3\\n論做白話字的...</td>\n",
       "    </tr>\n",
       "    <tr>\n",
       "      <th>1</th>\n",
       "      <td>白話字 ê 利益\\n1885.07 第1張 p.2\\n廈門ê牧師，冬顯理舊年有出一個論請漳泉...</td>\n",
       "      <td>Pe̍h-oē-jī ê Lī-ek\\n1885.07 Tē 1 Tiuⁿ p.2\\nĒ-m...</td>\n",
       "      <td>http://pojbh.lib.ntnu.edu.tw/script/artical-12...</td>\n",
       "      <td>白話字的利益\\n1885。07第1張p。2\\n廈門的牧師，冬顯理舊年有出一個論請漳泉台灣各教...</td>\n",
       "    </tr>\n",
       "    <tr>\n",
       "      <th>2</th>\n",
       "      <td>白話字ê利益\\n(是葉牧師做--ê.)\\n1885.08 第二張p.6-7\\n第二段\\n論寫...</td>\n",
       "      <td>Pe̍h-oē-jī ê Lī-ek\\n(Sī Ia̍p Bo̍k-su chò--ê.)\\...</td>\n",
       "      <td>http://pojbh.lib.ntnu.edu.tw/script/artical-12...</td>\n",
       "      <td>白話字的利益\\n（是葉牧師做--的。）\\n1885。08第二張p。6 7\\n第二段\\n論寫白...</td>\n",
       "    </tr>\n",
       "    <tr>\n",
       "      <th>3</th>\n",
       "      <td>O-ló上帝\\n1885.08 第二張 p.8\\nO-ló天頂主宰，創造天、地、kap海，保...</td>\n",
       "      <td>O-ló Siōng-tè\\n1885.08 TĒ JĪ TIUN p.8\\nO-ló th...</td>\n",
       "      <td>http://pojbh.lib.ntnu.edu.tw/script/artical-12...</td>\n",
       "      <td>呵咾上帝\\n1885。08第二張p。8\\n呵咾天頂主宰，創造天、地、佮海，保護萬民：人人無論...</td>\n",
       "    </tr>\n",
       "    <tr>\n",
       "      <th>4</th>\n",
       "      <td>白話字ê利益\\n(是葉牧師做--ê.)\\n1885.09 第三張 p.10-12\\n所以傳道...</td>\n",
       "      <td>Pe̍h-oē-jī ê Lī-ek.\\n(Sī Ia̍p Bo̍k-su chò--ê.)...</td>\n",
       "      <td>http://pojbh.lib.ntnu.edu.tw/script/artical-12...</td>\n",
       "      <td>白話字的利益\\n（是葉牧師做--的。）\\n1885。09第三張p。10 12\\n所以傳道理的...</td>\n",
       "    </tr>\n",
       "  </tbody>\n",
       "</table>\n",
       "</div>"
      ],
      "text/plain": [
       "                                                  漢羅  \\\n",
       "0  論白話字ê利益\\n\\n是葉漢章先生做--ê\\n1885.06 Tē 1 張 p.2-3\\n論...   \n",
       "1  白話字 ê 利益\\n1885.07 第1張 p.2\\n廈門ê牧師，冬顯理舊年有出一個論請漳泉...   \n",
       "2  白話字ê利益\\n(是葉牧師做--ê.)\\n1885.08 第二張p.6-7\\n第二段\\n論寫...   \n",
       "3  O-ló上帝\\n1885.08 第二張 p.8\\nO-ló天頂主宰，創造天、地、kap海，保...   \n",
       "4  白話字ê利益\\n(是葉牧師做--ê.)\\n1885.09 第三張 p.10-12\\n所以傳道...   \n",
       "\n",
       "                                                  台羅  \\\n",
       "0  Lūn Pe̍h-oē-jī ê Lī-ek\\nSī Ia̍p Hàn-chiong Sia...   \n",
       "1  Pe̍h-oē-jī ê Lī-ek\\n1885.07 Tē 1 Tiuⁿ p.2\\nĒ-m...   \n",
       "2  Pe̍h-oē-jī ê Lī-ek\\n(Sī Ia̍p Bo̍k-su chò--ê.)\\...   \n",
       "3  O-ló Siōng-tè\\n1885.08 TĒ JĪ TIUN p.8\\nO-ló th...   \n",
       "4  Pe̍h-oē-jī ê Lī-ek.\\n(Sī Ia̍p Bo̍k-su chò--ê.)...   \n",
       "\n",
       "                                                  連結  \\\n",
       "0  http://pojbh.lib.ntnu.edu.tw/script/artical-12...   \n",
       "1  http://pojbh.lib.ntnu.edu.tw/script/artical-12...   \n",
       "2  http://pojbh.lib.ntnu.edu.tw/script/artical-12...   \n",
       "3  http://pojbh.lib.ntnu.edu.tw/script/artical-12...   \n",
       "4  http://pojbh.lib.ntnu.edu.tw/script/artical-12...   \n",
       "\n",
       "                                                  台文  \n",
       "0  論白話字的利益\\n\\n是葉漢章先生做--的\\n1885。06地1張p。2 3\\n論做白話字的...  \n",
       "1  白話字的利益\\n1885。07第1張p。2\\n廈門的牧師，冬顯理舊年有出一個論請漳泉台灣各教...  \n",
       "2  白話字的利益\\n（是葉牧師做--的。）\\n1885。08第二張p。6 7\\n第二段\\n論寫白...  \n",
       "3  呵咾上帝\\n1885。08第二張p。8\\n呵咾天頂主宰，創造天、地、佮海，保護萬民：人人無論...  \n",
       "4  白話字的利益\\n（是葉牧師做--的。）\\n1885。09第三張p。10 12\\n所以傳道理的...  "
      ]
     },
     "execution_count": 21,
     "metadata": {},
     "output_type": "execute_result"
    }
   ],
   "source": [
    "df.head()"
   ]
  },
  {
   "cell_type": "code",
   "execution_count": 22,
   "id": "ca22f00f-f831-4f87-804a-ec9f9796efed",
   "metadata": {},
   "outputs": [
    {
     "data": {
      "application/vnd.jupyter.widget-view+json": {
       "model_id": "e4fb755183594098af8fc6d2851e74a1",
       "version_major": 2,
       "version_minor": 0
      },
      "text/plain": [
       "  0%|          | 0/2721 [00:00<?, ?it/s]"
      ]
     },
     "metadata": {},
     "output_type": "display_data"
    },
    {
     "data": {
      "application/vnd.jupyter.widget-view+json": {
       "model_id": "2d0647adca9d4c6cbe18c2936c098bb1",
       "version_major": 2,
       "version_minor": 0
      },
      "text/plain": [
       "  0%|          | 0/2721 [00:00<?, ?it/s]"
      ]
     },
     "metadata": {},
     "output_type": "display_data"
    }
   ],
   "source": [
    "def clean_text(text):\n",
    "    try:\n",
    "        text = re.sub(\"A\\.+\",\" \", text)\n",
    "        text = re.sub(\"\\s+\", \" \", text)\n",
    "        text = re.sub(\",+\", \",\", text)\n",
    "        text = re.sub(\"\\.+\", \".\", text)\n",
    "        text = re.sub(\"，+\", \"，\", text)\n",
    "        text = re.sub(\"、+\", \"、\", text)\n",
    "        text = re.sub(\"。+\", \"。\", text)\n",
    "        text = re.sub(r'(?<=[\\u4e00-\\u9fff，？。「」]) +(?=[\\u4e00-\\u9fff，？。「」])', '', text)\n",
    "        text = re.sub(r'(?<=[^\\u4e00-\\u9fff]) +(?=[\\u4e00-\\u9fff，？。「」])', '', text)\n",
    "        text = re.sub(r'(?<=[\\u4e00-\\u9fff，？。「」]) +(?=[^\\u4e00-\\u9fff])', '', text)\n",
    "        #text = re.sub(r'(?<=[\\u4e00-\\u9fff，？。「」])in(?=[\\u4e00-\\u9fff，？。「」])', '𪜶', text)\n",
    "        text = re.sub(\"\\([,\\.，。\\s]*\\)\", \"()\", text)\n",
    "        text = re.sub(\"（[,\\.，。\\s]*）\", \"()\", text)\n",
    "        text = re.sub(\"\\(\\s*\\)\", \"\", text)\n",
    "        text = re.sub(\"（\\s*）\", \"\", text)\n",
    "    except:\n",
    "        print(text)\n",
    "    return text\n",
    "df['台羅'] = df['台羅'].progress_apply(clean_text)\n",
    "df['漢羅'] = df['漢羅'].progress_apply(clean_text)"
   ]
  },
  {
   "cell_type": "code",
   "execution_count": 23,
   "id": "bf12800d-a575-48a6-af51-cb602304146d",
   "metadata": {},
   "outputs": [
    {
     "data": {
      "application/vnd.jupyter.widget-view+json": {
       "model_id": "52281b7bcaf04a939b9d8292bd891361",
       "version_major": 2,
       "version_minor": 0
      },
      "text/plain": [
       "  0%|          | 0/2721 [00:00<?, ?it/s]"
      ]
     },
     "metadata": {},
     "output_type": "display_data"
    }
   ],
   "source": [
    "def clean_text(text):\n",
    "    text = re.sub(\"A\\.+\",\" \", text)\n",
    "    text = re.sub(\"\\s+\", \" \", text)\n",
    "    text = re.sub(\",+\", \",\", text)\n",
    "    text = re.sub(\"\\.+\", \".\", text)\n",
    "    text = re.sub(\"，+\", \"，\", text)\n",
    "    text = re.sub(\"、+\", \"、\", text)\n",
    "    text = re.sub(\"。+\", \"。\", text)\n",
    "    text = re.sub(r'(?<=[\\u4e00-\\u9fff，？。「」]) +(?=[\\u4e00-\\u9fff，？。「」])', '', text)\n",
    "    text = re.sub(r'(?<=[^\\u4e00-\\u9fff]) +(?=[\\u4e00-\\u9fff，？。「」])', '', text)\n",
    "    text = re.sub(r'(?<=[\\u4e00-\\u9fff，？。「」]) +(?=[^\\u4e00-\\u9fff])', '', text)\n",
    "    text = re.sub(r'(?<=[\\u4e00-\\u9fff，？。「」])in(?=[\\u4e00-\\u9fff，？。「」])', '𪜶', text)\n",
    "    text = re.sub(\"\\([,\\.，。\\s]*\\)\", \"()\", text)\n",
    "    text = re.sub(\"（[,\\.，。\\s]*）\", \"()\", text)\n",
    "    text = re.sub(\"\\(\\s*\\)\", \"\", text)\n",
    "    text = re.sub(\"（\\s*）\", \"\", text)\n",
    "    return text\n",
    "df['台文'] = df['台文'].progress_apply(clean_text)"
   ]
  },
  {
   "cell_type": "code",
   "execution_count": 24,
   "id": "0f8c7ca4-6a7e-4bde-a6b0-52bae1ddd874",
   "metadata": {},
   "outputs": [
    {
     "data": {
      "text/html": [
       "<div>\n",
       "<style scoped>\n",
       "    .dataframe tbody tr th:only-of-type {\n",
       "        vertical-align: middle;\n",
       "    }\n",
       "\n",
       "    .dataframe tbody tr th {\n",
       "        vertical-align: top;\n",
       "    }\n",
       "\n",
       "    .dataframe thead th {\n",
       "        text-align: right;\n",
       "    }\n",
       "</style>\n",
       "<table border=\"1\" class=\"dataframe\">\n",
       "  <thead>\n",
       "    <tr style=\"text-align: right;\">\n",
       "      <th></th>\n",
       "      <th>漢羅</th>\n",
       "      <th>台羅</th>\n",
       "      <th>連結</th>\n",
       "      <th>台文</th>\n",
       "    </tr>\n",
       "  </thead>\n",
       "  <tbody>\n",
       "    <tr>\n",
       "      <th>0</th>\n",
       "      <td>論白話字ê利益是葉漢章先生做--ê 1885.06 Tē 1張p.2-3論做白話字ê要緊今起...</td>\n",
       "      <td>Lūn Pe̍h-oē-jī ê Lī-ek Sī Ia̍p Hàn-chiong Sian...</td>\n",
       "      <td>http://pojbh.lib.ntnu.edu.tw/script/artical-12...</td>\n",
       "      <td>論白話字的利益是葉漢章先生做--的1885。06地1張p。2 3論做白話字的要緊今起頭做這個...</td>\n",
       "    </tr>\n",
       "    <tr>\n",
       "      <th>1</th>\n",
       "      <td>白話字ê利益1885.07第1張p.2廈門ê牧師，冬顯理舊年有出一個論請漳泉台灣各教會ê人來...</td>\n",
       "      <td>Pe̍h-oē-jī ê Lī-ek 1885.07 Tē 1 Tiuⁿ p.2 Ē-mn̂...</td>\n",
       "      <td>http://pojbh.lib.ntnu.edu.tw/script/artical-12...</td>\n",
       "      <td>白話字的利益1885。07第1張p。2廈門的牧師，冬顯理舊年有出一個論請漳泉台灣各教會的人來...</td>\n",
       "    </tr>\n",
       "    <tr>\n",
       "      <th>2</th>\n",
       "      <td>白話字ê利益(是葉牧師做--ê.) 1885.08第二張p.6-7第二段論寫白話字較贏寫中國...</td>\n",
       "      <td>Pe̍h-oē-jī ê Lī-ek (Sī Ia̍p Bo̍k-su chò--ê.) 1...</td>\n",
       "      <td>http://pojbh.lib.ntnu.edu.tw/script/artical-12...</td>\n",
       "      <td>白話字的利益（是葉牧師做--的。） 1885。08第二張p。6 7第二段論寫白話字較贏寫中國...</td>\n",
       "    </tr>\n",
       "    <tr>\n",
       "      <th>3</th>\n",
       "      <td>O-ló上帝1885.08第二張p.8 O-ló天頂主宰，創造天、地、kap海，保護萬民：人...</td>\n",
       "      <td>O-ló Siōng-tè 1885.08 TĒ JĪ TIUN p.8 O-ló thiⁿ...</td>\n",
       "      <td>http://pojbh.lib.ntnu.edu.tw/script/artical-12...</td>\n",
       "      <td>呵咾上帝1885。08第二張p。8呵咾天頂主宰，創造天、地、佮海，保護萬民：人人無論大細，同...</td>\n",
       "    </tr>\n",
       "    <tr>\n",
       "      <th>4</th>\n",
       "      <td>白話字ê利益(是葉牧師做--ê.) 1885.09第三張p.10-12所以傳道理ê人到逐所在...</td>\n",
       "      <td>Pe̍h-oē-jī ê Lī-ek. (Sī Ia̍p Bo̍k-su chò--ê.) ...</td>\n",
       "      <td>http://pojbh.lib.ntnu.edu.tw/script/artical-12...</td>\n",
       "      <td>白話字的利益（是葉牧師做--的。） 1885。09第三張p。10 12所以傳道理的人到逐所在...</td>\n",
       "    </tr>\n",
       "  </tbody>\n",
       "</table>\n",
       "</div>"
      ],
      "text/plain": [
       "                                                  漢羅  \\\n",
       "0  論白話字ê利益是葉漢章先生做--ê 1885.06 Tē 1張p.2-3論做白話字ê要緊今起...   \n",
       "1  白話字ê利益1885.07第1張p.2廈門ê牧師，冬顯理舊年有出一個論請漳泉台灣各教會ê人來...   \n",
       "2  白話字ê利益(是葉牧師做--ê.) 1885.08第二張p.6-7第二段論寫白話字較贏寫中國...   \n",
       "3  O-ló上帝1885.08第二張p.8 O-ló天頂主宰，創造天、地、kap海，保護萬民：人...   \n",
       "4  白話字ê利益(是葉牧師做--ê.) 1885.09第三張p.10-12所以傳道理ê人到逐所在...   \n",
       "\n",
       "                                                  台羅  \\\n",
       "0  Lūn Pe̍h-oē-jī ê Lī-ek Sī Ia̍p Hàn-chiong Sian...   \n",
       "1  Pe̍h-oē-jī ê Lī-ek 1885.07 Tē 1 Tiuⁿ p.2 Ē-mn̂...   \n",
       "2  Pe̍h-oē-jī ê Lī-ek (Sī Ia̍p Bo̍k-su chò--ê.) 1...   \n",
       "3  O-ló Siōng-tè 1885.08 TĒ JĪ TIUN p.8 O-ló thiⁿ...   \n",
       "4  Pe̍h-oē-jī ê Lī-ek. (Sī Ia̍p Bo̍k-su chò--ê.) ...   \n",
       "\n",
       "                                                  連結  \\\n",
       "0  http://pojbh.lib.ntnu.edu.tw/script/artical-12...   \n",
       "1  http://pojbh.lib.ntnu.edu.tw/script/artical-12...   \n",
       "2  http://pojbh.lib.ntnu.edu.tw/script/artical-12...   \n",
       "3  http://pojbh.lib.ntnu.edu.tw/script/artical-12...   \n",
       "4  http://pojbh.lib.ntnu.edu.tw/script/artical-12...   \n",
       "\n",
       "                                                  台文  \n",
       "0  論白話字的利益是葉漢章先生做--的1885。06地1張p。2 3論做白話字的要緊今起頭做這個...  \n",
       "1  白話字的利益1885。07第1張p。2廈門的牧師，冬顯理舊年有出一個論請漳泉台灣各教會的人來...  \n",
       "2  白話字的利益（是葉牧師做--的。） 1885。08第二張p。6 7第二段論寫白話字較贏寫中國...  \n",
       "3  呵咾上帝1885。08第二張p。8呵咾天頂主宰，創造天、地、佮海，保護萬民：人人無論大細，同...  \n",
       "4  白話字的利益（是葉牧師做--的。） 1885。09第三張p。10 12所以傳道理的人到逐所在...  "
      ]
     },
     "execution_count": 24,
     "metadata": {},
     "output_type": "execute_result"
    }
   ],
   "source": [
    "df.head()"
   ]
  },
  {
   "cell_type": "code",
   "execution_count": 25,
   "id": "f51aa894-d2e7-4d94-aa4e-51be194ef9d9",
   "metadata": {},
   "outputs": [
    {
     "data": {
      "application/vnd.jupyter.widget-view+json": {
       "model_id": "195ca36094d547b9b892169e44b0f302",
       "version_major": 2,
       "version_minor": 0
      },
      "text/plain": [
       "  0%|          | 0/2721 [00:00<?, ?it/s]"
      ]
     },
     "metadata": {},
     "output_type": "display_data"
    }
   ],
   "source": [
    "from tqdm.contrib import tzip\n",
    "white_article = []\n",
    "han_lao_article = []\n",
    "tai_article = []\n",
    "temp = df['連結'].iloc[0]\n",
    "w = []\n",
    "h = []\n",
    "t = []\n",
    "for white, han, url, tai in tzip(df['台羅'],df['漢羅'],df['連結'],df['台文']):\n",
    "    if temp == url:\n",
    "        #same article\n",
    "        w.append(white)\n",
    "        h.append(han)\n",
    "        t.append(tai)\n",
    "    else:\n",
    "        #not same article\n",
    "        white_article.append(\"\\n\".join(w))\n",
    "        han_lao_article.append(\"\\n\".join(h))\n",
    "        tai_article.append(\"\\n\".join(t))\n",
    "        w = [white]\n",
    "        h = [han]\n",
    "        t = [tai]\n",
    "        temp = url\n",
    "#add last one\n",
    "white_article.append(\"\\n\".join(w))\n",
    "han_lao_article.append(\"\\n\".join(h))\n",
    "tai_article.append(\"\\n\".join(t))"
   ]
  },
  {
   "cell_type": "code",
   "execution_count": 26,
   "id": "3fd5f052-cfd3-476a-8846-830d74a78fa1",
   "metadata": {},
   "outputs": [],
   "source": [
    "with open(\"台灣白話字文獻館(台羅).txt\", 'w') as f:\n",
    "    for i in white_article:\n",
    "        f.write(i+'\\n\\n')\n",
    "with open(\"台灣白話字文獻館(漢羅).txt\", 'w') as f:\n",
    "    for i in han_lao_article:\n",
    "        f.write(i+'\\n\\n')\n",
    "with open(\"台灣白話字文獻館(台文).txt\", 'w') as f:\n",
    "    for i in tai_article:\n",
    "        f.write(i+'\\n\\n')"
   ]
  },
  {
   "cell_type": "code",
   "execution_count": null,
   "id": "1468f8bc-599b-485b-91fc-199a63814804",
   "metadata": {},
   "outputs": [],
   "source": []
  }
 ],
 "metadata": {
  "kernelspec": {
   "display_name": "Python 3 (ipykernel)",
   "language": "python",
   "name": "python3"
  },
  "language_info": {
   "codemirror_mode": {
    "name": "ipython",
    "version": 3
   },
   "file_extension": ".py",
   "mimetype": "text/x-python",
   "name": "python",
   "nbconvert_exporter": "python",
   "pygments_lexer": "ipython3",
   "version": "3.8.8"
  }
 },
 "nbformat": 4,
 "nbformat_minor": 5
}
