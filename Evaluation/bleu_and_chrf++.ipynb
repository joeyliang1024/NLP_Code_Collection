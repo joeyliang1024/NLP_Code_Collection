{
 "cells": [
  {
   "cell_type": "code",
   "execution_count": 1,
   "id": "bcae3e68-a844-44f0-87c2-16c42fb5c30d",
   "metadata": {},
   "outputs": [
    {
     "name": "stderr",
     "output_type": "stream",
     "text": [
      "2023-08-29 13:22:57.217285: E tensorflow/stream_executor/cuda/cuda_blas.cc:2981] Unable to register cuBLAS factory: Attempting to register factory for plugin cuBLAS when one has already been registered\n",
      "2023-08-29 13:22:57.741036: W tensorflow/stream_executor/platform/default/dso_loader.cc:64] Could not load dynamic library 'libnvinfer.so.7'; dlerror: libnvinfer.so.7: cannot open shared object file: No such file or directory; LD_LIBRARY_PATH: /usr/local/cuda/lib64:\n",
      "2023-08-29 13:22:57.741101: W tensorflow/stream_executor/platform/default/dso_loader.cc:64] Could not load dynamic library 'libnvinfer_plugin.so.7'; dlerror: libnvinfer_plugin.so.7: cannot open shared object file: No such file or directory; LD_LIBRARY_PATH: /usr/local/cuda/lib64:\n",
      "2023-08-29 13:22:57.741110: W tensorflow/compiler/tf2tensorrt/utils/py_utils.cc:38] TF-TRT Warning: Cannot dlopen some TensorRT libraries. If you would like to use Nvidia GPU with TensorRT, please make sure the missing libraries mentioned above are installed properly.\n"
     ]
    },
    {
     "data": {
      "application/vnd.jupyter.widget-view+json": {
       "model_id": "888f6f706e634a468a65b8df66547271",
       "version_major": 2,
       "version_minor": 0
      },
      "text/plain": [
       "Downloading builder script:   0%|          | 0.00/5.94k [00:00<?, ?B/s]"
      ]
     },
     "metadata": {},
     "output_type": "display_data"
    },
    {
     "data": {
      "application/vnd.jupyter.widget-view+json": {
       "model_id": "fb3c1b67df9b48c3a0a6f3ae0bfd7828",
       "version_major": 2,
       "version_minor": 0
      },
      "text/plain": [
       "Downloading extra modules:   0%|          | 0.00/1.55k [00:00<?, ?B/s]"
      ]
     },
     "metadata": {},
     "output_type": "display_data"
    },
    {
     "data": {
      "application/vnd.jupyter.widget-view+json": {
       "model_id": "5c6f8ebd85b44a3792073b75dc54f4e5",
       "version_major": 2,
       "version_minor": 0
      },
      "text/plain": [
       "Downloading extra modules:   0%|          | 0.00/3.34k [00:00<?, ?B/s]"
      ]
     },
     "metadata": {},
     "output_type": "display_data"
    },
    {
     "name": "stdout",
     "output_type": "stream",
     "text": [
      "{'bleu': 1.0, 'precisions': [1.0, 1.0, 1.0, 1.0], 'brevity_penalty': 1.0, 'length_ratio': 1.1666666666666667, 'translation_length': 7, 'reference_length': 6}\n"
     ]
    }
   ],
   "source": [
    "import torch\n",
    "import evaluate\n",
    "predictions = [\"hello there general kenobi\", \"foo bar foobar\"]\n",
    "references = [\n",
    "    [\"hello there general kenobi\", \"hello there !\"],\n",
    "    [\"foo bar foobar\"]\n",
    "    ]\n",
    "bleu = evaluate.load(\"bleu\")\n",
    "results = bleu.compute(predictions=predictions, references=references)\n",
    "print(results)"
   ]
  },
  {
   "cell_type": "code",
   "execution_count": 5,
   "id": "615e16f0-0470-4df1-9dff-51a34f54b1d7",
   "metadata": {},
   "outputs": [
    {
     "data": {
      "text/plain": [
       "0.393755531055134"
      ]
     },
     "execution_count": 5,
     "metadata": {},
     "output_type": "execute_result"
    }
   ],
   "source": [
    "def compute_sentence_bleu(translation_sentence:str, correct_sentence:str)->dict:\n",
    "    bleu = evaluate.load(\"bleu\")\n",
    "    results = bleu.compute(predictions=[translation_sentence], references=[[correct_sentence]])\n",
    "    return results['bleu']\n",
    "t = \"上 帝 看 光 是 好 的 ， 就 把 光 和 暗 分 開 ，\"\n",
    "c = \"上 帝 看 光 是 好 ； 上 帝 將 光 及 暗 分 開 。\"\n",
    "compute_sentence_bleu(t, c)"
   ]
  },
  {
   "cell_type": "code",
   "execution_count": 34,
   "id": "c0183459-f528-4a25-b7a0-71e7ef5e5119",
   "metadata": {},
   "outputs": [
    {
     "name": "stdout",
     "output_type": "stream",
     "text": [
      "BLEU:   0.51159\n",
      "CHRF++: 0.50190\n"
     ]
    }
   ],
   "source": [
    "import evaluate\n",
    "def compute_batch_sentence_BLEU(translation_sentence_list:list, correct_sentence_list:list):\n",
    "    bleu = evaluate.load(\"bleu\")\n",
    "    results = bleu.compute(predictions=translation_sentence_list, references=correct_sentence_list)\n",
    "    return results['bleu']\n",
    "def compute_batch_sentence_CHRF_plus_plus(translation_sentence_list:list, correct_sentence_list:list):\n",
    "    chrf = evaluate.load(\"chrf\")\n",
    "    results = chrf.compute(predictions=translation_sentence_list, \n",
    "                           references=correct_sentence_list,\n",
    "                           word_order=2)\n",
    "    return results['score']\n",
    "t = [\"上帝的創造 太初，上帝創造天地。\", \"上帝說：「要有光」，就有了光。\"]\n",
    "c = [\"上帝的創造 起頭，上帝創造天及地。\", \"上帝講「著有光」，就有光。\"]\n",
    "t = [\" \".join([word for word in sentence]) for sentence in t]\n",
    "c = [[\" \".join([word for word in sentence])] for sentence in c]\n",
    "bleu_score = compute_batch_sentence_BLEU(t, c)\n",
    "chrf_score = compute_batch_sentence_CHRF_plus_plus(t, c) / 100\n",
    "print(f\"BLEU:   {bleu_score:.5f}\\nCHRF++: {chrf_score:.5f}\")"
   ]
  },
  {
   "cell_type": "code",
   "execution_count": null,
   "id": "4ee4f182-4e91-4e0e-9bcd-bc2fce2a17df",
   "metadata": {},
   "outputs": [],
   "source": []
  }
 ],
 "metadata": {
  "kernelspec": {
   "display_name": "Python 3 (ipykernel)",
   "language": "python",
   "name": "python3"
  },
  "language_info": {
   "codemirror_mode": {
    "name": "ipython",
    "version": 3
   },
   "file_extension": ".py",
   "mimetype": "text/x-python",
   "name": "python",
   "nbconvert_exporter": "python",
   "pygments_lexer": "ipython3",
   "version": "3.10.6"
  }
 },
 "nbformat": 4,
 "nbformat_minor": 5
}
