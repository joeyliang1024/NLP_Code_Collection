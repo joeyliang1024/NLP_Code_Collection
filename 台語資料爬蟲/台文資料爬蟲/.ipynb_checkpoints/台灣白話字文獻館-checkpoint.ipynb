{
 "cells": [
  {
   "cell_type": "code",
   "execution_count": 72,
   "id": "ec3152e3-e08c-4d83-9987-2d149ae0e5f4",
   "metadata": {},
   "outputs": [],
   "source": [
    "from selenium import webdriver\n",
    "from selenium.webdriver.chrome.options import Options\n",
    "from selenium.common.exceptions import WebDriverException as wde"
   ]
  },
  {
   "cell_type": "code",
   "execution_count": 73,
   "id": "66b6e117-d48d-475d-b4ec-f68a9f431f65",
   "metadata": {},
   "outputs": [],
   "source": [
    "# use selenium to get the content of each chapter\n",
    "chrome_options = Options()\n",
    "# chrome_options.add_argument(\"--headless\")\n",
    "chrome_options.add_argument(\"--incognito\") \n",
    "chromedriver = \"/usr/local/bin/chromedriver\"\n",
    "driver = webdriver.Chrome(chromedriver, options=chrome_options)\n",
    "driver.get(\"http://pojbh.lib.ntnu.edu.tw/script/artical-dtap.htm\") # 主網頁"
   ]
  },
  {
   "cell_type": "code",
   "execution_count": 33,
   "id": "046b5264-33ef-45dd-845c-ea051221da0e",
   "metadata": {},
   "outputs": [],
   "source": [
    "stop_url = 'http://pojbh.lib.ntnu.edu.tw/script/artical-dtap140.htm'"
   ]
  },
  {
   "cell_type": "code",
   "execution_count": null,
   "id": "4073b206-4d6d-49a2-bb60-a2700d2e998e",
   "metadata": {},
   "outputs": [],
   "source": [
    "#main function\n",
    "to_be_craw_link = []\n",
    "while stop_url != driver.current_url:\n",
    "    table = driver.find_element_by_xpath(\"//table[@width='860'][@border='0'][@cellspacing='0'][@style='text-align:left']\")\n",
    "    column = table.find_elements_by_xpath(\"//td[@style='width:120px']\")\n",
    "    to_be_craw_link += [elem.find_element_by_tag_name('a').get_attribute('href') for elem in column]\n",
    "    # click button 搜尋\n",
    "    button = driver.find_element_by_xpath(\"//img[@src='../images/btn_next.gif']\")\n",
    "    button.click() #next_page"
   ]
  },
  {
   "cell_type": "code",
   "execution_count": 77,
   "id": "7d9be508-cf71-4f89-ab61-2546efb8198f",
   "metadata": {},
   "outputs": [
    {
     "data": {
      "text/plain": [
       "<selenium.webdriver.remote.webelement.WebElement (session=\"073d83d82e39b2793c655a9aab248775\", element=\"444a1b01-99c3-44da-b04c-38b1db5634d0\")>"
      ]
     },
     "execution_count": 77,
     "metadata": {},
     "output_type": "execute_result"
    }
   ],
   "source": [
    "table = driver.find_elements_by_xpath(\"//table[@width='860'][@border='0'][@cellspacing='0'][@style='text-align:left']\")\n",
    "table[0]\n",
    "elems = table[0].find_elements_by_css_selector(\".trn [href]\")\n",
    "elems2 = table[0].find_elements_by_xpath(\"//td[@style='width:120px']\")\n",
    "#axdd_new_page = [elem.get_attribute('href') for elem in elems]\n",
    "#set(add_new_page)\n",
    "print(elems2[0].find_element_by_tag_name('a').get_attribute('href'))"
   ]
  },
  {
   "cell_type": "code",
   "execution_count": 91,
   "id": "dad49370-d43f-4ae3-9e0c-f37d45fc88c4",
   "metadata": {},
   "outputs": [
    {
     "data": {
      "text/plain": [
       "['http://pojbh.lib.ntnu.edu.tw/script/artical-11503.htm',\n",
       " 'http://pojbh.lib.ntnu.edu.tw/script/artical-11504.htm',\n",
       " 'http://pojbh.lib.ntnu.edu.tw/script/artical-11505.htm',\n",
       " 'http://pojbh.lib.ntnu.edu.tw/script/artical-11509.htm',\n",
       " 'http://pojbh.lib.ntnu.edu.tw/script/artical-11512.htm',\n",
       " 'http://pojbh.lib.ntnu.edu.tw/script/artical-11513.htm',\n",
       " 'http://pojbh.lib.ntnu.edu.tw/script/artical-11528.htm',\n",
       " 'http://pojbh.lib.ntnu.edu.tw/script/artical-11532.htm',\n",
       " 'http://pojbh.lib.ntnu.edu.tw/script/artical-11522.htm',\n",
       " 'http://pojbh.lib.ntnu.edu.tw/script/artical-11525.htm',\n",
       " 'http://pojbh.lib.ntnu.edu.tw/script/artical-11539.htm',\n",
       " 'http://pojbh.lib.ntnu.edu.tw/script/artical-11541.htm',\n",
       " 'http://pojbh.lib.ntnu.edu.tw/script/artical-11543.htm',\n",
       " 'http://pojbh.lib.ntnu.edu.tw/script/artical-11533.htm',\n",
       " 'http://pojbh.lib.ntnu.edu.tw/script/artical-11534.htm',\n",
       " 'http://pojbh.lib.ntnu.edu.tw/script/artical-11538.htm',\n",
       " 'http://pojbh.lib.ntnu.edu.tw/script/artical-11540.htm',\n",
       " 'http://pojbh.lib.ntnu.edu.tw/script/artical-11551.htm',\n",
       " 'http://pojbh.lib.ntnu.edu.tw/script/artical-11554.htm',\n",
       " 'http://pojbh.lib.ntnu.edu.tw/script/artical-11556.htm']"
      ]
     },
     "execution_count": 91,
     "metadata": {},
     "output_type": "execute_result"
    }
   ],
   "source": [
    "table = driver.find_element_by_xpath(\"//table[@width='860'][@border='0'][@cellspacing='0'][@style='text-align:left']\")\n",
    "column = table.find_elements_by_xpath(\"//td[@style='width:120px']\")\n",
    "to_be_craw_link += [elem.find_element_by_tag_name('a').get_attribute('href') for elem in column]\n",
    "to_be_craw_link"
   ]
  },
  {
   "cell_type": "code",
   "execution_count": 71,
   "id": "ff6012e4-27a7-4bc9-aefb-526c2a8bc2ce",
   "metadata": {},
   "outputs": [
    {
     "ename": "NoSuchWindowException",
     "evalue": "Message: no such window: target window already closed\nfrom unknown error: web view not found\n  (Session info: chrome=112.0.5615.137)\n",
     "output_type": "error",
     "traceback": [
      "\u001b[0;31m---------------------------------------------------------------------------\u001b[0m",
      "\u001b[0;31mNoSuchWindowException\u001b[0m                     Traceback (most recent call last)",
      "Input \u001b[0;32mIn [71]\u001b[0m, in \u001b[0;36m<cell line: 2>\u001b[0;34m()\u001b[0m\n\u001b[1;32m      1\u001b[0m \u001b[38;5;66;03m#http://pojbh.lib.ntnu.edu.tw/script/artical-11620.htm\u001b[39;00m\n\u001b[0;32m----> 2\u001b[0m \u001b[43mdriver\u001b[49m\u001b[38;5;241;43m.\u001b[39;49m\u001b[43mget\u001b[49m\u001b[43m(\u001b[49m\u001b[38;5;124;43m'\u001b[39;49m\u001b[38;5;124;43mhttp://pojbh.lib.ntnu.edu.tw/script/artical-src11609.htm\u001b[39;49m\u001b[38;5;124;43m'\u001b[39;49m\u001b[43m)\u001b[49m\n\u001b[1;32m      3\u001b[0m \u001b[38;5;28;01mtry\u001b[39;00m:\n\u001b[1;32m      4\u001b[0m     driver\u001b[38;5;241m.\u001b[39mfind_element_by_id(\u001b[38;5;124m'\u001b[39m\u001b[38;5;124martical_content\u001b[39m\u001b[38;5;124m'\u001b[39m)\u001b[38;5;241m.\u001b[39mtext\n",
      "File \u001b[0;32m~/opt/anaconda3/lib/python3.8/site-packages/selenium/webdriver/remote/webdriver.py:333\u001b[0m, in \u001b[0;36mWebDriver.get\u001b[0;34m(self, url)\u001b[0m\n\u001b[1;32m    329\u001b[0m \u001b[38;5;28;01mdef\u001b[39;00m \u001b[38;5;21mget\u001b[39m(\u001b[38;5;28mself\u001b[39m, url):\n\u001b[1;32m    330\u001b[0m     \u001b[38;5;124;03m\"\"\"\u001b[39;00m\n\u001b[1;32m    331\u001b[0m \u001b[38;5;124;03m    Loads a web page in the current browser session.\u001b[39;00m\n\u001b[1;32m    332\u001b[0m \u001b[38;5;124;03m    \"\"\"\u001b[39;00m\n\u001b[0;32m--> 333\u001b[0m     \u001b[38;5;28;43mself\u001b[39;49m\u001b[38;5;241;43m.\u001b[39;49m\u001b[43mexecute\u001b[49m\u001b[43m(\u001b[49m\u001b[43mCommand\u001b[49m\u001b[38;5;241;43m.\u001b[39;49m\u001b[43mGET\u001b[49m\u001b[43m,\u001b[49m\u001b[43m \u001b[49m\u001b[43m{\u001b[49m\u001b[38;5;124;43m'\u001b[39;49m\u001b[38;5;124;43murl\u001b[39;49m\u001b[38;5;124;43m'\u001b[39;49m\u001b[43m:\u001b[49m\u001b[43m \u001b[49m\u001b[43murl\u001b[49m\u001b[43m}\u001b[49m\u001b[43m)\u001b[49m\n",
      "File \u001b[0;32m~/opt/anaconda3/lib/python3.8/site-packages/selenium/webdriver/remote/webdriver.py:321\u001b[0m, in \u001b[0;36mWebDriver.execute\u001b[0;34m(self, driver_command, params)\u001b[0m\n\u001b[1;32m    319\u001b[0m response \u001b[38;5;241m=\u001b[39m \u001b[38;5;28mself\u001b[39m\u001b[38;5;241m.\u001b[39mcommand_executor\u001b[38;5;241m.\u001b[39mexecute(driver_command, params)\n\u001b[1;32m    320\u001b[0m \u001b[38;5;28;01mif\u001b[39;00m response:\n\u001b[0;32m--> 321\u001b[0m     \u001b[38;5;28;43mself\u001b[39;49m\u001b[38;5;241;43m.\u001b[39;49m\u001b[43merror_handler\u001b[49m\u001b[38;5;241;43m.\u001b[39;49m\u001b[43mcheck_response\u001b[49m\u001b[43m(\u001b[49m\u001b[43mresponse\u001b[49m\u001b[43m)\u001b[49m\n\u001b[1;32m    322\u001b[0m     response[\u001b[38;5;124m'\u001b[39m\u001b[38;5;124mvalue\u001b[39m\u001b[38;5;124m'\u001b[39m] \u001b[38;5;241m=\u001b[39m \u001b[38;5;28mself\u001b[39m\u001b[38;5;241m.\u001b[39m_unwrap_value(\n\u001b[1;32m    323\u001b[0m         response\u001b[38;5;241m.\u001b[39mget(\u001b[38;5;124m'\u001b[39m\u001b[38;5;124mvalue\u001b[39m\u001b[38;5;124m'\u001b[39m, \u001b[38;5;28;01mNone\u001b[39;00m))\n\u001b[1;32m    324\u001b[0m     \u001b[38;5;28;01mreturn\u001b[39;00m response\n",
      "File \u001b[0;32m~/opt/anaconda3/lib/python3.8/site-packages/selenium/webdriver/remote/errorhandler.py:242\u001b[0m, in \u001b[0;36mErrorHandler.check_response\u001b[0;34m(self, response)\u001b[0m\n\u001b[1;32m    240\u001b[0m         alert_text \u001b[38;5;241m=\u001b[39m value[\u001b[38;5;124m'\u001b[39m\u001b[38;5;124malert\u001b[39m\u001b[38;5;124m'\u001b[39m]\u001b[38;5;241m.\u001b[39mget(\u001b[38;5;124m'\u001b[39m\u001b[38;5;124mtext\u001b[39m\u001b[38;5;124m'\u001b[39m)\n\u001b[1;32m    241\u001b[0m     \u001b[38;5;28;01mraise\u001b[39;00m exception_class(message, screen, stacktrace, alert_text)\n\u001b[0;32m--> 242\u001b[0m \u001b[38;5;28;01mraise\u001b[39;00m exception_class(message, screen, stacktrace)\n",
      "\u001b[0;31mNoSuchWindowException\u001b[0m: Message: no such window: target window already closed\nfrom unknown error: web view not found\n  (Session info: chrome=112.0.5615.137)\n"
     ]
    }
   ],
   "source": [
    "#http://pojbh.lib.ntnu.edu.tw/script/artical-11620.htm\n",
    "driver.get('http://pojbh.lib.ntnu.edu.tw/script/artical-src11609.htm')\n",
    "try:\n",
    "    driver.find_element_by_id('artical_content').text\n",
    "except:\n",
    "    continue"
   ]
  },
  {
   "cell_type": "code",
   "execution_count": null,
   "id": "4b068ceb-61de-4812-896f-c6f0f58e4d8e",
   "metadata": {},
   "outputs": [],
   "source": [
    "driver.close()"
   ]
  }
 ],
 "metadata": {
  "kernelspec": {
   "display_name": "Python 3 (ipykernel)",
   "language": "python",
   "name": "python3"
  },
  "language_info": {
   "codemirror_mode": {
    "name": "ipython",
    "version": 3
   },
   "file_extension": ".py",
   "mimetype": "text/x-python",
   "name": "python",
   "nbconvert_exporter": "python",
   "pygments_lexer": "ipython3",
   "version": "3.8.8"
  }
 },
 "nbformat": 4,
 "nbformat_minor": 5
}
