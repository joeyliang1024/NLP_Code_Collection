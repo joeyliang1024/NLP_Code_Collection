{
 "cells": [
  {
   "cell_type": "code",
   "execution_count": 1,
   "id": "5c3f85d9-f506-4ce4-b0e6-cbc02c95418a",
   "metadata": {},
   "outputs": [],
   "source": [
    "from selenium import webdriver\n",
    "from selenium.webdriver.chrome.options import Options\n",
    "from selenium.common.exceptions import WebDriverException as wde"
   ]
  },
  {
   "cell_type": "code",
   "execution_count": 2,
   "id": "f458fed2-e82c-4b36-ab49-667c8104b1d2",
   "metadata": {},
   "outputs": [],
   "source": [
    "# use selenium to get the content of each chapter\n",
    "chrome_options = Options()\n",
    "# chrome_options.add_argument(\"--headless\")\n",
    "chrome_options.add_argument(\"--incognito\") \n",
    "chromedriver = \"/usr/local/bin/chromedriver\"\n",
    "driver = webdriver.Chrome(chromedriver, options=chrome_options)\n",
    "driver.get(\"https://db.nmtl.gov.tw/site3/home\") # 更改網址以前往不同網頁"
   ]
  },
  {
   "cell_type": "code",
   "execution_count": 3,
   "id": "e8e6769f-dc6a-4b25-9cb3-27e0cfe2d96f",
   "metadata": {},
   "outputs": [
    {
     "name": "stdout",
     "output_type": "stream",
     "text": [
      "599\n"
     ]
    }
   ],
   "source": [
    "elems = driver.find_elements_by_css_selector(\".down_a [href]\")\n",
    "to_be_craw_links = [elem.get_attribute('href') for elem in elems]\n",
    "print(len(to_be_craw_links))"
   ]
  },
  {
   "cell_type": "code",
   "execution_count": 4,
   "id": "b132c936-9989-469b-a820-90ae987be5bb",
   "metadata": {},
   "outputs": [
    {
     "name": "stdout",
     "output_type": "stream",
     "text": [
      "599\n"
     ]
    }
   ],
   "source": [
    "chapter_name = [elem.text for elem in elems]\n",
    "print(len(chapter_name))"
   ]
  },
  {
   "cell_type": "code",
   "execution_count": 14,
   "id": "11f69dd4-8dfe-486d-bed4-527c1808a320",
   "metadata": {},
   "outputs": [],
   "source": [
    "import requests\n",
    "from bs4 import BeautifulSoup\n",
    "import time\n",
    "from tqdm.auto import tqdm\n",
    "import pandas as pd"
   ]
  },
  {
   "cell_type": "code",
   "execution_count": 15,
   "id": "7f98036a-a289-46ef-ae13-8a98a6cab05b",
   "metadata": {},
   "outputs": [],
   "source": [
    "chapter_id = 12\n",
    "response = requests.get(to_be_craw_links[chapter_id])"
   ]
  },
  {
   "cell_type": "code",
   "execution_count": 19,
   "id": "f31d6546-7e94-4c1c-87be-322fd4566ee6",
   "metadata": {},
   "outputs": [
    {
     "name": "stdout",
     "output_type": "stream",
     "text": [
      "https://db.nmtl.gov.tw/site3/chheh?bid=10&pid=294\n"
     ]
    },
    {
     "data": {
      "text/html": [
       "<div>\n",
       "<style scoped>\n",
       "    .dataframe tbody tr th:only-of-type {\n",
       "        vertical-align: middle;\n",
       "    }\n",
       "\n",
       "    .dataframe tbody tr th {\n",
       "        vertical-align: top;\n",
       "    }\n",
       "\n",
       "    .dataframe thead th {\n",
       "        text-align: right;\n",
       "    }\n",
       "</style>\n",
       "<table border=\"1\" class=\"dataframe\">\n",
       "  <thead>\n",
       "    <tr style=\"text-align: right;\">\n",
       "      <th></th>\n",
       "      <th>台羅</th>\n",
       "      <th>漢羅</th>\n",
       "      <th>篇名</th>\n",
       "    </tr>\n",
       "  </thead>\n",
       "  <tbody>\n",
       "    <tr>\n",
       "      <th>0</th>\n",
       "      <td>Se-kokūchi̍têtha̍k-chhehlângsiⁿnn̄gêkiáⁿ, chi̍...</td>\n",
       "      <td>西國有一個讀冊人生兩個囝，一個ta-po͘，一個查某。查某大ta-po͘兩歲；大姊小弟有十分...</td>\n",
       "      <td>代先升天毋是失落</td>\n",
       "    </tr>\n",
       "    <tr>\n",
       "      <th>1</th>\n",
       "      <td>Āu-lâichiàukui-kúlâibâi-chòngchhut-soaⁿ; ūchi̍...</td>\n",
       "      <td>後來照規矩來埋葬出山；有一日讀冊人chhōa hit ê ta-po͘囝去山裡栽花種樹；到墓...</td>\n",
       "      <td>代先升天毋是失落</td>\n",
       "    </tr>\n",
       "    <tr>\n",
       "      <th>2</th>\n",
       "      <td>Iêpēchiūkāian-ùi, “Líêtōa-chím̄sīsit-lo̍h, sīb...</td>\n",
       "      <td>伊ê父就kā伊安慰，「你ê大姊毋是失落，是beh koh活，會koh相見，現在不過代先上去天...</td>\n",
       "      <td>代先升天毋是失落</td>\n",
       "    </tr>\n",
       "    <tr>\n",
       "      <th>3</th>\n",
       "      <td>Kàutùibōngn̍i̍htò-tńglâitùilō͘-piⁿkeng-kèchi̍t...</td>\n",
       "      <td>到tùi墓裡倒轉來tùi路邊經過一個淺水潭，四圍lóng有ām ê樹林，有長ê竹。水中央有蘆...</td>\n",
       "      <td>代先升天毋是失落</td>\n",
       "    </tr>\n",
       "    <tr>\n",
       "      <th>4</th>\n",
       "      <td>Tha̍k-chhehlângchiūkiòta-po͘-kiáⁿlâichòe-tuich...</td>\n",
       "      <td>讀冊人就叫ta-po͘囝來做堆坐tī水潭邊，重頭kā伊講起koh活ê情理，就將目睭前所看ê物...</td>\n",
       "      <td>代先升天毋是失落</td>\n",
       "    </tr>\n",
       "  </tbody>\n",
       "</table>\n",
       "</div>"
      ],
      "text/plain": [
       "                                                  台羅  \\\n",
       "0  Se-kokūchi̍têtha̍k-chhehlângsiⁿnn̄gêkiáⁿ, chi̍...   \n",
       "1  Āu-lâichiàukui-kúlâibâi-chòngchhut-soaⁿ; ūchi̍...   \n",
       "2  Iêpēchiūkāian-ùi, “Líêtōa-chím̄sīsit-lo̍h, sīb...   \n",
       "3  Kàutùibōngn̍i̍htò-tńglâitùilō͘-piⁿkeng-kèchi̍t...   \n",
       "4  Tha̍k-chhehlângchiūkiòta-po͘-kiáⁿlâichòe-tuich...   \n",
       "\n",
       "                                                  漢羅        篇名  \n",
       "0  西國有一個讀冊人生兩個囝，一個ta-po͘，一個查某。查某大ta-po͘兩歲；大姊小弟有十分...  代先升天毋是失落  \n",
       "1  後來照規矩來埋葬出山；有一日讀冊人chhōa hit ê ta-po͘囝去山裡栽花種樹；到墓...  代先升天毋是失落  \n",
       "2  伊ê父就kā伊安慰，「你ê大姊毋是失落，是beh koh活，會koh相見，現在不過代先上去天...  代先升天毋是失落  \n",
       "3  到tùi墓裡倒轉來tùi路邊經過一個淺水潭，四圍lóng有ām ê樹林，有長ê竹。水中央有蘆...  代先升天毋是失落  \n",
       "4  讀冊人就叫ta-po͘囝來做堆坐tī水潭邊，重頭kā伊講起koh活ê情理，就將目睭前所看ê物...  代先升天毋是失落  "
      ]
     },
     "execution_count": 19,
     "metadata": {},
     "output_type": "execute_result"
    }
   ],
   "source": [
    "soup = BeautifulSoup(response.text, \"html.parser\")  #把網頁程式碼(HTML)丟入 bs4 模組分析\n",
    "table = soup.find('table', {'class': 'article_d peh lmj1'})\n",
    "columns = ['台羅','漢羅','篇名']\n",
    "trs = table.find_all('tr')[:]\n",
    "rows = list()\n",
    "for tr in trs:\n",
    "    rows.append([td.text.replace('\\n', '').replace('\\xa0', '') for td in tr.find_all('td')])\n",
    "for row in rows:\n",
    "    row.append(chapter_name[chapter_id])\n",
    "df = pd.DataFrame(data=rows, columns=columns)\n",
    "print(to_be_craw_links[chapter_id])\n",
    "df.head(5)"
   ]
  },
  {
   "cell_type": "code",
   "execution_count": null,
   "id": "8c78111b-eb07-43e8-96fc-83dc6eb74333",
   "metadata": {},
   "outputs": [
    {
     "data": {
      "application/vnd.jupyter.widget-view+json": {
       "model_id": "4f77d609e3954a6993346659b334a1c0",
       "version_major": 2,
       "version_minor": 0
      },
      "text/plain": [
       "  0%|          | 0/599 [00:00<?, ?it/s]"
      ]
     },
     "metadata": {},
     "output_type": "display_data"
    }
   ],
   "source": [
    "from tqdm.contrib import tzip\n",
    "total_data = []\n",
    "columns = ['台羅','漢羅','篇名']\n",
    "for url, chap_name in tzip(to_be_craw_links, chapter_name):\n",
    "    response = requests.get(url)\n",
    "    table = soup.find('table', {'class': 'article_d peh lmj1'})\n",
    "    trs = table.find_all('tr')[:]\n",
    "    rows = list()\n",
    "    for tr in trs:\n",
    "        rows.append([td.text.replace('\\n', '').replace('\\xa0', '') for td in tr.find_all('td')])\n",
    "    for row in rows:\n",
    "        row.append(chap_name)\n",
    "    total_data = total_data + rows\n",
    "    time.sleep(5)\n",
    "df = pd.DataFrame(data=rows, columns=columns)\n",
    "print(df.shape[0])\n",
    "df.head(5)\n",
    "df.to_csv('白話字數位典藏館.csv', index = False)"
   ]
  },
  {
   "cell_type": "code",
   "execution_count": null,
   "id": "cd330027-8e99-464b-b9f4-3b867e8a1d0b",
   "metadata": {},
   "outputs": [],
   "source": [
    "with open('白話字數位典藏館連結.txt', 'a') as f:\n",
    "    for link in to_be_craw_links:\n",
    "    f.write('hello\\n')\n",
    "    f.write('world')"
   ]
  }
 ],
 "metadata": {
  "kernelspec": {
   "display_name": "Python 3 (ipykernel)",
   "language": "python",
   "name": "python3"
  },
  "language_info": {
   "codemirror_mode": {
    "name": "ipython",
    "version": 3
   },
   "file_extension": ".py",
   "mimetype": "text/x-python",
   "name": "python",
   "nbconvert_exporter": "python",
   "pygments_lexer": "ipython3",
   "version": "3.8.8"
  }
 },
 "nbformat": 4,
 "nbformat_minor": 5
}
